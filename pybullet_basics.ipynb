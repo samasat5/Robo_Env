{
 "cells": [
  {
   "cell_type": "markdown",
   "id": "a7d0bae6",
   "metadata": {},
   "source": [
    "# PYBULLET BASICS "
   ]
  },
  {
   "cell_type": "markdown",
   "id": "1608f7e4",
   "metadata": {},
   "source": [
    "Getting started with Pybullet.\n",
    "\n",
    "Here is the Quickstart Guide : https://docs.google.com/document/d/10sXEhzFRSnvFcl3XxNGhnD4N2SedqwdAvK3dsihxVUA/edit?tab=t.0\n"
   ]
  },
  {
   "cell_type": "code",
   "execution_count": null,
   "id": "421c7894",
   "metadata": {},
   "outputs": [],
   "source": [
    "import matplotlib.pyplot as plt\n",
    "import numpy as np\n",
    "import pybullet as p \n",
    "import pybullet_data \n",
    "import time"
   ]
  },
  {
   "cell_type": "markdown",
   "id": "cfb128e4",
   "metadata": {},
   "source": [
    "## Setting up the basics of the sim:\n",
    "\n",
    "p.connect(p.GUI) should only be called once per runtime.\n",
    "In Jupyter notebooks (like Colab), that means you can’t call it in multiple cells or split your simulation setup across cells that each try to connect.\n",
    "\n",
    "Once you’ve called p.connect(p.GUI), everything else (like loading URDFs, setting gravity, etc.) should run in the same cell or cells after it — just don’t call p.connect() again.\n",
    "\n",
    "If you do try to reconnect, PyBullet might silently fail or open a second (invisible) connection, and the GUI won’t show anything. However if you use p.DIRECT, this issue won’t happen — but you won’t see the simulation either.\n",
    "\n",
    "\n",
    "I'm repeating p.connect(p.GUI) multiple times here just to make the explanation easier to follow."
   ]
  },
  {
   "cell_type": "code",
   "execution_count": null,
   "id": "3583742d",
   "metadata": {},
   "outputs": [],
   "source": [
    "p.connect(p.GUI) # getting visual of simulations \n",
    "# p.connect(p.DIRECT) # no visualizations but still doing everything so its faster\n",
    "p.resetSimulation()\n",
    "p.setAdditionalSearchPath(pybullet_data.getDataPath())\n",
    "p.setGravity(0,0,-9.8)\n",
    "p.setRealTimeSimulation(0)"
   ]
  },
  {
   "cell_type": "markdown",
   "id": "45a0a03e",
   "metadata": {},
   "source": [
    "### Loading the desired robot:\n",
    "\n",
    "URDF (Unified Robot Description Format) is a file format for specifying the geometry and organization of robots in ROS. \n",
    "\n",
    "You can choose simple or premade objects/robots from https://github.com/bulletphysics/bullet3/tree/master/examples/pybullet/gym/pybullet_data or build more complex URDF models with the help of the turotial https://docs.ros.org/en/humble/Tutorials/Intermediate/URDF/URDF-Main.html. "
   ]
  },
  {
   "cell_type": "code",
   "execution_count": null,
   "id": "4abd356e",
   "metadata": {},
   "outputs": [],
   "source": [
    "p.loadURDF(\"plane.urdf\", [0,0,0], [0,0,0,1])\n",
    "targit = p.loadURDF(\"franka_panda/panda.urdf\",[0,0,0], [0,0,0,1], useFixedBase = True ) # each urdf is basivally a set of links . # fix base for objects so it doesnt move"
   ]
  },
  {
   "cell_type": "code",
   "execution_count": null,
   "id": "37fa2a46",
   "metadata": {},
   "outputs": [],
   "source": [
    "targit = p.loadURDF(\"domino/domino.urdf\",[0,0,0], [0,0,0,1], useFixedBase = True ) # each urdf is basivally a set of links . # fix base for objects so it doesnt move"
   ]
  },
  {
   "cell_type": "markdown",
   "id": "e519382a",
   "metadata": {},
   "source": [
    "### Run the sim"
   ]
  },
  {
   "cell_type": "code",
   "execution_count": null,
   "id": "0b7fa10f",
   "metadata": {},
   "outputs": [],
   "source": [
    "# Setting up the camera and starting the sim :\n",
    "for step in range(300):\n",
    "    focus_position , _ = p.getBasePositionAndOrientation(targit) # focus of position and orientation\n",
    "    p.resetDebugVisualizerCamera(cameraDistance = 3,  # how far the camera is from the robot \n",
    "                                 cameraYaw = 0, \n",
    "                                 cameraPitch = -50, \n",
    "                                 cameraTargetPosition = focus_position) # we want to set the camera to be forcused on the focus position\n",
    "    p.stepSimulation()\n",
    "    time.sleep(2.01) # so that it doesnt closes very fast\n"
   ]
  },
  {
   "cell_type": "markdown",
   "id": "5a183d71",
   "metadata": {},
   "source": [
    "### Parameters:\n",
    "\n",
    "addUserDebugParameter lets you add custom sliders and buttons to tune parameters. It will return a unique id."
   ]
  },
  {
   "cell_type": "code",
   "execution_count": null,
   "id": "279a260e",
   "metadata": {},
   "outputs": [],
   "source": [
    "angle = p.addUserDebugParameter('Steering', -0.5, 0.5, 0)\n",
    "throttle = p.addUserDebugParameter('Throttle', 0, 20, 0)"
   ]
  },
  {
   "cell_type": "markdown",
   "id": "42923d4e",
   "metadata": {},
   "source": [
    "### Friction\n",
    "Change the friction of the ground:"
   ]
  },
  {
   "cell_type": "code",
   "execution_count": null,
   "id": "fa4aff27",
   "metadata": {},
   "outputs": [],
   "source": [
    "p.changeDynamics(\n",
    "    bodyUniqueId=targit,\n",
    "    linkIndex=-1,\n",
    "    lateralFriction=0.5  # Typical values: 0.1 (slippery) to 10.0 (sticky)\n",
    ")"
   ]
  },
  {
   "cell_type": "markdown",
   "id": "56791462",
   "metadata": {},
   "source": [
    "### Force\n",
    "\n",
    "Adding external force to an object:\n"
   ]
  },
  {
   "cell_type": "code",
   "execution_count": null,
   "id": "68c6afe7",
   "metadata": {},
   "outputs": [],
   "source": [
    "# choose what point to add the force to \n",
    "center_of_mass = p.getBasePositionAndOrientation(targit)[0]  # Choosing the center of the mass \n",
    "\n",
    "p.applyExternalImpulse(\n",
    "    objectUniqueId=targit,\n",
    "    linkIndex=-1,\n",
    "    impulseObj=[5, 0, 0],\n",
    "    posObj=center_of_mass, # position of the force\n",
    "    flags=p.WORLD_FRAME\n",
    ")"
   ]
  },
  {
   "cell_type": "markdown",
   "id": "1103a8e0",
   "metadata": {},
   "source": [
    "### Joints\n",
    "A robot is a combination of links and joints. Here we get the number of the joints, join info and adding force to the joints, .. :"
   ]
  },
  {
   "cell_type": "code",
   "execution_count": null,
   "id": "7c9634b6",
   "metadata": {},
   "outputs": [
    {
     "name": "stdout",
     "output_type": "stream",
     "text": [
      "number of joints in this robot: 12\n",
      "joint index: 0 joint type: 0 joint upper bound: 2.9671 joint lower bound: -2.9671\n",
      "joint index: 1 joint type: 0 joint upper bound: 1.8326 joint lower bound: -1.8326\n",
      "joint index: 2 joint type: 0 joint upper bound: 2.9671 joint lower bound: -2.9671\n",
      "joint index: 3 joint type: 0 joint upper bound: 0.0 joint lower bound: -3.1416\n",
      "joint index: 4 joint type: 0 joint upper bound: 2.9671 joint lower bound: -2.9671\n",
      "joint index: 5 joint type: 0 joint upper bound: 3.8223 joint lower bound: -0.0873\n",
      "joint index: 6 joint type: 0 joint upper bound: 2.9671 joint lower bound: -2.9671\n",
      "joint index: 7 joint type: 4 joint upper bound: -1.0 joint lower bound: 0.0\n",
      "joint index: 8 joint type: 4 joint upper bound: -1.0 joint lower bound: 0.0\n",
      "joint index: 9 joint type: 1 joint upper bound: 0.04 joint lower bound: 0.0\n",
      "joint index: 10 joint type: 1 joint upper bound: 0.04 joint lower bound: 0.0\n",
      "joint index: 11 joint type: 4 joint upper bound: -1.0 joint lower bound: 0.0\n",
      "joint info for 2nd and 4th joint ((-0.7007768961333072, -21.956735620941686, (0.0, 0.0, 0.0, 0.0, 0.0, 0.0), 302.7957419883108), (0.26755690671826693, 30.757500481589602, (0.0, 0.0, 0.0, 0.0, 0.0, 0.0), 369.9209891041543))\n",
      "joint info for 2nd and 4th joint ((-0.702277434110211, -0.3601291144569352, (0.0, 0.0, 0.0, 0.0, 0.0, 0.0), 11.125110041923234), (0.18414220871295156, -20.019527521275684, (0.0, 0.0, 0.0, 0.0, 0.0, 0.0), -195.24539266102033))\n"
     ]
    }
   ],
   "source": [
    "nb_joints = p.getNumJoints(targit)\n",
    "print(\"number of joints in this robot:\", nb_joints)\n",
    "\n",
    "\n",
    "for joint in range(nb_joints):\n",
    "    print(\"joint index:\",p.getJointInfo(targit, joint)[0],\n",
    "          \"joint type:\",p.getJointInfo(targit, joint)[2],\n",
    "          \"joint upper bound:\",p.getJointInfo(targit, joint)[9],\n",
    "          \"joint lower bound:\",p.getJointInfo(targit, joint)[8])\n",
    "\n",
    "# # getJointInfo: \n",
    "# # jointIndex, jointName, jointType, qIndex, uIndex, flags, jointDamping, jointFriction, jointLowerLimit, \n",
    "# # jointUpperLimit, jointMaxForce, jointMaxVelocity, linkName, jointAxis, parentFramePos, parentFrameOrn, parentIndex"
   ]
  },
  {
   "cell_type": "code",
   "execution_count": null,
   "id": "14184d6e",
   "metadata": {},
   "outputs": [],
   "source": [
    "joint_id = 1\n",
    "jlower = p.getJointInfo(targit, joint_id)[8]\n",
    "jupper = p.getJointInfo(targit, joint_id)[9]\n",
    "\n",
    "# to change the angles in those joints ( add force):\n",
    "for step in range(2):\n",
    "    j_two_target = np.random.uniform(jlower, jupper)\n",
    "    j_four_target = np.random.uniform(jlower, jupper)\n",
    "    p.setJointMotorControlArray(targit, [2,4], p.POSITION_CONTROL, targetPositions = [j_two_target, j_four_target] )   # takes id value, joint index, types of control , \n",
    "    p.stepSimulation()\n",
    "    print(\"joint info for 2nd and 4th joint \", p.getJointStates(targit,[2,4])) # give the joint information for 2nd and 4th joint"
   ]
  },
  {
   "cell_type": "markdown",
   "id": "b9bb3870",
   "metadata": {},
   "source": [
    "#### Visualize each joint on the robot:"
   ]
  },
  {
   "cell_type": "code",
   "execution_count": null,
   "id": "eec0b6cc",
   "metadata": {},
   "outputs": [],
   "source": [
    "# show the joints and joint numebrs\n",
    "targit = p.loadURDF(\"franka_panda/panda.urdf\",[0,0,0], [0,0,0,1], useFixedBase = True )\n",
    "for i in range(p.getNumJoints(targit)):\n",
    "    info = p.getJointInfo(targit, i)\n",
    "    print(i, info[12].decode('utf-8'))\n",
    "    p.addUserDebugText(str(i), [0, 0, 0.1], parentObjectUniqueId=targit, parentLinkIndex=i)\n",
    "    time.sleep(4.05)"
   ]
  },
  {
   "cell_type": "markdown",
   "id": "26c919cc",
   "metadata": {},
   "source": [
    "### Exploring the Effects of Varying Forces on Specific Joints:"
   ]
  },
  {
   "cell_type": "markdown",
   "id": "56c3878b",
   "metadata": {},
   "source": [
    "#### Moving one joint after the other :"
   ]
  },
  {
   "cell_type": "code",
   "execution_count": null,
   "id": "a2ae8106",
   "metadata": {},
   "outputs": [],
   "source": [
    "robot_id = targit\n",
    "\n",
    "# move joint 2\n",
    "target_joint = 2\n",
    "target_angle = 1.5\n",
    "\n",
    "for _ in range(240):  # simulate ~1 sec\n",
    "    p.setJointMotorControlArray(\n",
    "        robot_id, target_joint, controlMode=p.POSITION_CONTROL, targetPosition=target_angle\n",
    "    )\n",
    "    p.stepSimulation()\n",
    "    time.sleep(1 / 240.0)\n",
    "\n",
    "\n",
    "\n",
    "# then move joint 5\n",
    "target_joint = 5\n",
    "target_angle = 2\n",
    "\n",
    "for _ in range(240):  \n",
    "    p.setJointMotorControlArray(\n",
    "        robot_id, target_joint, controlMode=p.POSITION_CONTROL, targetPosition=target_angle\n",
    "    )\n",
    "    p.stepSimulation()\n",
    "    time.sleep(1 / 240.0)\n",
    "\n",
    "print(\"Done.\")\n",
    "\n"
   ]
  },
  {
   "cell_type": "markdown",
   "id": "6c4cad9b",
   "metadata": {},
   "source": [
    "#### Moving two joints together: "
   ]
  },
  {
   "cell_type": "code",
   "execution_count": null,
   "id": "b120f1be",
   "metadata": {},
   "outputs": [],
   "source": [
    "p.setJointMotorControlArray(\n",
    "    bodyUniqueId=robot_id,\n",
    "    jointIndices=[1, 2],\n",
    "    controlMode=p.POSITION_CONTROL,\n",
    "    targetPositions=[0.5, -0.8],\n",
    "    forces=[100, 100],            # Control the force\n",
    "    positionGains=[0.1, 0.1],     # Optional: reduce control stiffness\n",
    "    velocityGains=[1.0, 1.0],     # Optional\n",
    ")\n"
   ]
  }
 ],
 "metadata": {
  "kernelspec": {
   "display_name": "newenv_robot",
   "language": "python",
   "name": "python3"
  },
  "language_info": {
   "codemirror_mode": {
    "name": "ipython",
    "version": 3
   },
   "file_extension": ".py",
   "mimetype": "text/x-python",
   "name": "python",
   "nbconvert_exporter": "python",
   "pygments_lexer": "ipython3",
   "version": "3.9.23"
  }
 },
 "nbformat": 4,
 "nbformat_minor": 5
}
