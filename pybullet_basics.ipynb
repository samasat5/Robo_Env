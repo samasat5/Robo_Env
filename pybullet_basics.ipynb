{
 "cells": [
  {
   "cell_type": "markdown",
   "id": "a7d0bae6",
   "metadata": {},
   "source": [
    "# PYBULLET BASICS "
   ]
  },
  {
   "cell_type": "markdown",
   "id": "1608f7e4",
   "metadata": {},
   "source": [
    "Getting started with Pybullet.\n",
    "\n",
    "Here is the Quickstart Guide : https://docs.google.com/document/d/10sXEhzFRSnvFcl3XxNGhnD4N2SedqwdAvK3dsihxVUA/edit?tab=t.0\n"
   ]
  },
  {
   "cell_type": "code",
   "execution_count": null,
   "id": "421c7894",
   "metadata": {},
   "outputs": [],
   "source": [
    "import matplotlib.pyplot as plt\n",
    "import numpy as np\n",
    "import pybullet as p \n",
    "import pybullet_data \n",
    "import time"
   ]
  },
  {
   "cell_type": "markdown",
   "id": "cfb128e4",
   "metadata": {},
   "source": [
    "## Setting up the basics of the sim:\n",
    "\n",
    "Note that:\n",
    "p.connect(p.GUI) should be called only once per runtime (or kernel).\n",
    "In Jupyter notebooks (like Colab), this means you cannot call it in multiple cells.\n",
    "Once connected, all your PyBullet setup and simulation code (like loading URDFs, setting gravity) must run in the same cell or cells that follow, without re-calling p.connect(p.GUI).\n",
    "\n",
    "Also, if you split your simulation setup across multiple cells and try to re-run p.connect(p.GUI) again, it will either fail silently or open a new connection that doesn’t show visuals.\n",
    "\n",
    "Here I am only doing it for the sake of clear explanation for each piece of code. "
   ]
  },
  {
   "cell_type": "code",
   "execution_count": null,
   "id": "3583742d",
   "metadata": {},
   "outputs": [],
   "source": [
    "p.connect(p.GUI) # getting visual of simulations \n",
    "# p.connect(p.DIRECT) # no visualizations but still doing everything so its faster\n",
    "p.resetSimulation()\n",
    "p.setAdditionalSearchPath(pybullet_data.getDataPath())\n",
    "p.setGravity(0,0,-9.8)\n",
    "p.setRealTimeSimulation(0)"
   ]
  },
  {
   "cell_type": "markdown",
   "id": "45a0a03e",
   "metadata": {},
   "source": [
    "Loading the desired robot:\n",
    "\n",
    "You can choose from https://github.com/bulletphysics/bullet3/tree/master/examples/pybullet/gym/pybullet_data"
   ]
  },
  {
   "cell_type": "code",
   "execution_count": null,
   "id": "4abd356e",
   "metadata": {},
   "outputs": [],
   "source": [
    "p.loadURDF(\"plane.urdf\", [0,0,0], [0,0,0,1])\n",
    "targit = p.loadURDF(\"franka_panda/panda.urdf\",[0,0,0], [0,0,0,1], useFixedBase = True ) # each urdf is basivally a set of links . # fix base for objects so it doesnt move"
   ]
  },
  {
   "cell_type": "code",
   "execution_count": null,
   "id": "37fa2a46",
   "metadata": {},
   "outputs": [],
   "source": [
    "targit = p.loadURDF(\"domino/domino.urdf\",[0,0,0], [0,0,0,1], useFixedBase = True ) # each urdf is basivally a set of links . # fix base for objects so it doesnt move"
   ]
  },
  {
   "cell_type": "markdown",
   "id": "e519382a",
   "metadata": {},
   "source": [
    "### Run the sim"
   ]
  },
  {
   "cell_type": "code",
   "execution_count": null,
   "id": "0b7fa10f",
   "metadata": {},
   "outputs": [],
   "source": [
    "# Setting up the camera and starting the sim :\n",
    "for step in range(300):\n",
    "    focus_position , _ = p.getBasePositionAndOrientation(targit) # focus of position and orientation\n",
    "    p.resetDebugVisualizerCamera(cameraDistance = 3, \n",
    "                                 cameraYaw = 0, \n",
    "                                 cameraPitch = -40, \n",
    "                                 cameraTargetPosition = focus_position) # we want to set the camera to be forcused on the focus position\n",
    "    p.stepSimulation()\n",
    "    time.sleep(2.01) # so that it doesnt closes very fast\n"
   ]
  },
  {
   "cell_type": "code",
   "execution_count": null,
   "id": "501ec853",
   "metadata": {},
   "outputs": [],
   "source": [
    "# show the joints and joint numebrs\n",
    "targit = p.loadURDF(\"franka_panda/panda.urdf\",[0,0,0], [0,0,0,1], useFixedBase = True )\n",
    "for i in range(p.getNumJoints(targit)):\n",
    "    info = p.getJointInfo(targit, i)\n",
    "    print(i, info[12].decode('utf-8'))\n",
    "    p.addUserDebugText(str(i), [0, 0, 0.1], parentObjectUniqueId=targit, parentLinkIndex=i)\n",
    "    time.sleep(4.05)"
   ]
  },
  {
   "cell_type": "markdown",
   "id": "1103a8e0",
   "metadata": {},
   "source": [
    "### Joints\n",
    "Getting the number of the joints, join info and adding force to the joints:"
   ]
  },
  {
   "cell_type": "code",
   "execution_count": null,
   "id": "7c9634b6",
   "metadata": {},
   "outputs": [
    {
     "name": "stdout",
     "output_type": "stream",
     "text": [
      "number of joints in this robot: 12\n",
      "joint index: 0 joint type: 0 joint upper bound: 2.9671 joint lower bound: -2.9671\n",
      "joint index: 1 joint type: 0 joint upper bound: 1.8326 joint lower bound: -1.8326\n",
      "joint index: 2 joint type: 0 joint upper bound: 2.9671 joint lower bound: -2.9671\n",
      "joint index: 3 joint type: 0 joint upper bound: 0.0 joint lower bound: -3.1416\n",
      "joint index: 4 joint type: 0 joint upper bound: 2.9671 joint lower bound: -2.9671\n",
      "joint index: 5 joint type: 0 joint upper bound: 3.8223 joint lower bound: -0.0873\n",
      "joint index: 6 joint type: 0 joint upper bound: 2.9671 joint lower bound: -2.9671\n",
      "joint index: 7 joint type: 4 joint upper bound: -1.0 joint lower bound: 0.0\n",
      "joint index: 8 joint type: 4 joint upper bound: -1.0 joint lower bound: 0.0\n",
      "joint index: 9 joint type: 1 joint upper bound: 0.04 joint lower bound: 0.0\n",
      "joint index: 10 joint type: 1 joint upper bound: 0.04 joint lower bound: 0.0\n",
      "joint index: 11 joint type: 4 joint upper bound: -1.0 joint lower bound: 0.0\n",
      "joint info for 2nd and 4th joint ((-0.7007768961333072, -21.956735620941686, (0.0, 0.0, 0.0, 0.0, 0.0, 0.0), 302.7957419883108), (0.26755690671826693, 30.757500481589602, (0.0, 0.0, 0.0, 0.0, 0.0, 0.0), 369.9209891041543))\n",
      "joint info for 2nd and 4th joint ((-0.702277434110211, -0.3601291144569352, (0.0, 0.0, 0.0, 0.0, 0.0, 0.0), 11.125110041923234), (0.18414220871295156, -20.019527521275684, (0.0, 0.0, 0.0, 0.0, 0.0, 0.0), -195.24539266102033))\n"
     ]
    }
   ],
   "source": [
    "nb_joints = p.getNumJoints(targit)\n",
    "print(\"number of joints in this robot:\", nb_joints)\n",
    "\n",
    "\n",
    "for joint in range(nb_joints):\n",
    "    print(\"joint index:\",p.getJointInfo(targit, joint)[0],\n",
    "          \"joint type:\",p.getJointInfo(targit, joint)[2],\n",
    "          \"joint upper bound:\",p.getJointInfo(targit, joint)[9],\n",
    "          \"joint lower bound:\",p.getJointInfo(targit, joint)[8])\n",
    "\n",
    "# # getJointInfo: \n",
    "# # jointIndex, jointName, jointType, qIndex, uIndex, flags, jointDamping, jointFriction, jointLowerLimit, \n",
    "# # jointUpperLimit, jointMaxForce, jointMaxVelocity, linkName, jointAxis, parentFramePos, parentFrameOrn, parentIndex\n",
    "\n",
    "\n",
    "joint_id = 1\n",
    "jlower = p.getJointInfo(targit, joint_id)[8]\n",
    "jupper = p.getJointInfo(targit, joint_id)[9]\n",
    "\n",
    "# to change the angles in those joints ( add force):\n",
    "for step in range(2):\n",
    "    j_two_target = np.random.uniform(jlower, jupper)\n",
    "    j_four_target = np.random.uniform(jlower, jupper)\n",
    "    p.setJointMotorControlArray(targit, [2,4], p.POSITION_CONTROL, targetPositions = [j_two_target, j_four_target] )   # takes id value, joint index, types of control , \n",
    "    p.stepSimulation()\n",
    "    print(\"joint info for 2nd and 4th joint \", p.getJointStates(targit,[2,4])) # give the joint information for 2nd and 4th joint\n",
    "    \n"
   ]
  },
  {
   "cell_type": "markdown",
   "id": "26c919cc",
   "metadata": {},
   "source": [
    "### Exploring the Effects of Varying Forces on Specific Joints:"
   ]
  },
  {
   "cell_type": "code",
   "execution_count": null,
   "id": "a2ae8106",
   "metadata": {},
   "outputs": [],
   "source": []
  }
 ],
 "metadata": {
  "kernelspec": {
   "display_name": "newenv_robot",
   "language": "python",
   "name": "python3"
  },
  "language_info": {
   "codemirror_mode": {
    "name": "ipython",
    "version": 3
   },
   "file_extension": ".py",
   "mimetype": "text/x-python",
   "name": "python",
   "nbconvert_exporter": "python",
   "pygments_lexer": "ipython3",
   "version": "3.9.23"
  }
 },
 "nbformat": 4,
 "nbformat_minor": 5
}
